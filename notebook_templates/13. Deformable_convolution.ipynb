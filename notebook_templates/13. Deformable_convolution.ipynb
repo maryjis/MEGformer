{
 "cells": [
  {
   "cell_type": "code",
   "execution_count": null,
   "id": "3aa02d29-0fd0-4325-a492-d15a17c9f8af",
   "metadata": {},
   "outputs": [],
   "source": []
  },
  {
   "cell_type": "code",
   "execution_count": 2,
   "id": "c808df7e-599b-4bb5-94e6-e036b420fe63",
   "metadata": {},
   "outputs": [
    {
     "name": "stdout",
     "output_type": "stream",
     "text": [
      "Requirement already satisfied: dc1d in /home/zubrikhina/anaconda3/envs/bm/lib/python3.8/site-packages (0.0.7)\n"
     ]
    }
   ],
   "source": [
    "!pip install dc1d"
   ]
  },
  {
   "cell_type": "code",
   "execution_count": 3,
   "id": "5aa257fb-a33f-424b-9f4e-76b0ef063bb2",
   "metadata": {},
   "outputs": [
    {
     "name": "stdout",
     "output_type": "stream",
     "text": [
      "Requirement already satisfied: dc1d in /home/zubrikhina/anaconda3/envs/bm/lib/python3.8/site-packages (0.0.7)\n",
      "Note: you may need to restart the kernel to use updated packages.\n"
     ]
    }
   ],
   "source": [
    "pip install dc1d"
   ]
  },
  {
   "cell_type": "code",
   "execution_count": 3,
   "id": "04998831-cf04-426c-b7c5-1e5ca2fe6582",
   "metadata": {},
   "outputs": [],
   "source": [
    "import time\n",
    "import torch\n",
    "from torch import nn\n",
    "\n",
    "# Import layer\n",
    "from dc1d.nn import DeformConv1d,PackedDeformConv1d"
   ]
  },
  {
   "cell_type": "code",
   "execution_count": 4,
   "id": "6372c518-e179-4190-8d81-9826c988a17c",
   "metadata": {},
   "outputs": [],
   "source": [
    "# Hyperparameters\n",
    "batch_size = 16\n",
    "in_channels = 512\n",
    "out_channels = 512\n",
    "kernel_size = 7\n",
    "stride = 1\n",
    "padding = 0\n",
    "dilation = 0\n",
    "groups = 1\n",
    "bias = True\n",
    "length = 128\n",
    "\n"
   ]
  },
  {
   "cell_type": "code",
   "execution_count": 5,
   "id": "596d3468-caf4-4474-a8f2-648a855db8c0",
   "metadata": {},
   "outputs": [],
   "source": [
    "# Construct layer\n",
    "model = DeformConv1d(\n",
    "    in_channels = in_channels,\n",
    "    out_channels = out_channels,\n",
    "    kernel_size = kernel_size,\n",
    "    stride = stride,\n",
    "    padding = padding,\n",
    "    dilation = dilation,\n",
    "    groups = groups,\n",
    "    bias = True,\n",
    ")"
   ]
  },
  {
   "cell_type": "code",
   "execution_count": 8,
   "id": "2c38a1ef-ce8d-4e68-afe3-48733d885d64",
   "metadata": {},
   "outputs": [],
   "source": [
    "model =PackedDeformConv1d(in_channels = in_channels, \n",
    "                          out_channels = out_channels,\n",
    "                          kernel_size = kernel_size,\n",
    "                          stride = stride,dilation = dilation, groups = groups,bias = True)"
   ]
  },
  {
   "cell_type": "code",
   "execution_count": 9,
   "id": "d0954bb6-e4de-45e4-a761-79d7c279ef8a",
   "metadata": {},
   "outputs": [
    {
     "name": "stdout",
     "output_type": "stream",
     "text": [
      "torch.Size([16, 512, 128])\n",
      "torch.Size([16, 512, 122])\n",
      "Deformable runtime = 0.1268455982208252\n"
     ]
    }
   ],
   "source": [
    "# Generate input sequence\n",
    "x = torch.rand(batch_size, in_channels, length,requires_grad=True)\n",
    "print(x.shape)\n",
    "\n",
    "# Generate offsets by first computing the desired output length\n",
    "output_length = x.shape[-1]-dilation*(kernel_size-1)\n",
    "offsets = nn.Parameter(torch.ones(batch_size, 1, output_length, kernel_size, requires_grad=True))\n",
    "\n",
    "# Process the input sequence and time it\n",
    "start = time.time()\n",
    "y = model(x)\n",
    "end = time.time()\n",
    "\n",
    "# Print output shape and time taken\n",
    "print(y.shape)\n",
    "print(\"Deformable runtime =\",end-start)"
   ]
  },
  {
   "cell_type": "code",
   "execution_count": 10,
   "id": "8f893b13-f232-4878-b25e-affca9f2fd72",
   "metadata": {},
   "outputs": [
    {
     "data": {
      "text/plain": [
       "torch.Size([16, 1, 83, 16])"
      ]
     },
     "execution_count": 10,
     "metadata": {},
     "output_type": "execute_result"
    }
   ],
   "source": [
    "offsets.shape"
   ]
  },
  {
   "cell_type": "code",
   "execution_count": 17,
   "id": "c22d2100-9611-4a75-a3e1-7e31695a662a",
   "metadata": {},
   "outputs": [],
   "source": [
    "conv =nn.Conv1d(in_channels, kernel_size, 16 )"
   ]
  },
  {
   "cell_type": "code",
   "execution_count": 22,
   "id": "b18e1b1a-5d72-4c27-a5f0-bb8a615d557a",
   "metadata": {},
   "outputs": [
    {
     "data": {
      "text/plain": [
       "torch.Size([16, 1, 83, 16])"
      ]
     },
     "execution_count": 22,
     "metadata": {},
     "output_type": "execute_result"
    }
   ],
   "source": [
    "offsets.shape"
   ]
  },
  {
   "cell_type": "code",
   "execution_count": 19,
   "id": "112100d9-3636-47aa-add4-1156b2644be2",
   "metadata": {},
   "outputs": [
    {
     "ename": "SyntaxError",
     "evalue": "unexpected EOF while parsing (2895255435.py, line 2)",
     "output_type": "error",
     "traceback": [
      "\u001b[0;36m  Cell \u001b[0;32mIn[19], line 2\u001b[0;36m\u001b[0m\n\u001b[0;31m    \u001b[0m\n\u001b[0m    ^\u001b[0m\n\u001b[0;31mSyntaxError\u001b[0m\u001b[0;31m:\u001b[0m unexpected EOF while parsing\n"
     ]
    }
   ],
   "source": [
    "\n",
    "class DeformTemporalConv(nn.Module):\n",
    "    "
   ]
  },
  {
   "cell_type": "code",
   "execution_count": null,
   "id": "600bd0b7-6f2d-4fac-8621-96cfef14b4fe",
   "metadata": {},
   "outputs": [],
   "source": [
    "class PackedDeformConv1d(\n",
    "        in_channels: int,\n",
    "        out_channels: int,\n",
    "        kernel_size: int,\n",
    "        stride: int = 1,\n",
    "        padding: int = \"valid\",\n",
    "        dilation: int = 1,\n",
    "        groups: int = 1,\n",
    "        bias: bool = True,\n",
    "        padding_mode: str = \"reflect\","
   ]
  }
 ],
 "metadata": {
  "kernelspec": {
   "display_name": "Python 3 (ipykernel)",
   "language": "python",
   "name": "python3"
  },
  "language_info": {
   "codemirror_mode": {
    "name": "ipython",
    "version": 3
   },
   "file_extension": ".py",
   "mimetype": "text/x-python",
   "name": "python",
   "nbconvert_exporter": "python",
   "pygments_lexer": "ipython3",
   "version": "3.8.18"
  }
 },
 "nbformat": 4,
 "nbformat_minor": 5
}
