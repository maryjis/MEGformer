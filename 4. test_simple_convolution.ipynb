{
 "cells": [
  {
   "cell_type": "code",
   "execution_count": 1,
   "id": "3bee4a84-f1a1-4387-991a-d9aaea2f5f24",
   "metadata": {},
   "outputs": [
    {
     "name": "stderr",
     "output_type": "stream",
     "text": [
      "Hostname bagration not defined in /conf/study_paths/study_paths.yaml. Using default paths.\n"
     ]
    }
   ],
   "source": [
    "from functools import partial\n",
    "import random\n",
    "import typing as tp\n",
    "\n",
    "import torch\n",
    "from torch import nn\n",
    "from torch.nn import functional as F\n",
    "import torchaudio as ta\n",
    "\n",
    "from bm.models.common import (\n",
    "    ConvSequence, ScaledEmbedding, SubjectLayers,\n",
    "    DualPathRNN, ChannelMerger, ChannelDropout, pad_multiple\n",
    ")\n",
    "from bm.models import SimpleConv\n",
    "from bm import play"
   ]
  },
  {
   "cell_type": "code",
   "execution_count": 12,
   "id": "5c0031f2-ba1b-46f1-93e3-71d1ec464e84",
   "metadata": {},
   "outputs": [],
   "source": [
    "simpleconv={\n",
    "      \"hidden\":\n",
    "        {\"meg\": 320},\n",
    "      \"batch_norm\": True,\n",
    "      \"depth\": 10,\n",
    "      \"dilation_period\": 1,\n",
    "      \"kernel_size\": [3,3,3,3,3,3,3,3,3,3],\n",
    "      \"skip\": True, \n",
    "      \"subject_layers\": False,\n",
    "      \"subject_dim\": 0,\n",
    "      \"complex_out\": False, \n",
    "      \"glu\": 2, \n",
    "      \"glu_context\": 1, \n",
    "      \"merger\": False,\n",
    "      \"initial_linear\": 270,\n",
    "      \"avg_pool_out\" : False,\n",
    "      \"adaptive_pooling_size\" : 1,\n",
    "      \"strides\" : [1,1,1,1,1,1,1,1,1,1],\n",
    "      \"padding\": [1,1,1,1,1,1,1,1,1,1,1,1],\n",
    "      \"gelu\": True,\n",
    "      \"merger_pos_dim\": 2048,\n",
    "      \"auto_padding\" : False,\n",
    "      \"flatten_out\" : True,\n",
    "       \"conv_dropout\" : 0.2,\n",
    "     \"is_deformable_conv\": True,\n",
    "       \"seq_len\" : 361, \n",
    "      \"flatten_out_channels\" : 512}"
   ]
  },
  {
   "cell_type": "code",
   "execution_count": 13,
   "id": "ce68924e-3647-434c-b702-74e08bfafbd3",
   "metadata": {},
   "outputs": [],
   "source": [
    "# simpleconv={\n",
    "#       \"hidden\":\n",
    "#         {\"meg\": 320},\n",
    "#       \"batch_norm\": True,\n",
    "#       \"depth\": 6,\n",
    "#       \"dilation_period\": 1,\n",
    "#       \"kernel_size\": [11,9,7,5,5,5,3,3,3,3],\n",
    "#       \"skip\": True, \n",
    "#       \"subject_layers\": False,\n",
    "#       \"subject_dim\": 0,\n",
    "#       \"complex_out\": False, \n",
    "#       \"glu\": 2, \n",
    "#       \"glu_context\": 1, \n",
    "#       \"merger\": False,\n",
    "#       \"initial_linear\": 270,\n",
    "#       \"avg_pool_out\" : False,\n",
    "#       \"adaptive_pooling_size\" : 1,\n",
    "#       \"strides\" : [2,1,1,1,1,1,1,1,1,1],\n",
    "#       \"padding\": [0,0,0,0,0,0,0,0,0,0,0,0],\n",
    "#       \"gelu\": True,\n",
    "#       \"merger_pos_dim\": 2048,\n",
    "#       \"auto_padding\" : False,\n",
    "#       \"flatten_out\" : True,\n",
    "#        \"conv_dropout\" : 0.2,\n",
    "#        \"seq_len\" : 361, \n",
    "#       \"flatten_out_channels\" : 512}"
   ]
  },
  {
   "cell_type": "code",
   "execution_count": 14,
   "id": "d46f44a0-6e7a-432a-8aeb-6f1ffec7d8ba",
   "metadata": {},
   "outputs": [],
   "source": [
    "in_channels = {\"meg\" : 207}\n",
    "model_chout =1024"
   ]
  },
  {
   "cell_type": "code",
   "execution_count": 15,
   "id": "1e26b160-beb8-403b-9839-2700fb214601",
   "metadata": {},
   "outputs": [
    {
     "data": {
      "text/plain": [
       "10"
      ]
     },
     "execution_count": 15,
     "metadata": {},
     "output_type": "execute_result"
    }
   ],
   "source": [
    "len([1,1,1,1,1,1,1,1,1,1])"
   ]
  },
  {
   "cell_type": "code",
   "execution_count": 16,
   "id": "3e2e1d20-4a68-45f8-a6f0-47794b91a12d",
   "metadata": {},
   "outputs": [],
   "source": [
    "model = SimpleConv(in_channels=in_channels, out_channels=model_chout,\n",
    "                           n_subjects=27, **simpleconv)"
   ]
  },
  {
   "cell_type": "code",
   "execution_count": 17,
   "id": "d26789aa-d24e-45ce-98ab-57851039e4f4",
   "metadata": {},
   "outputs": [],
   "source": [
    "batch =torch.rand(size=(256, 207, 362))"
   ]
  },
  {
   "cell_type": "code",
   "execution_count": 18,
   "id": "d7df5319-d438-41a9-8e31-0a8e8d1c51e7",
   "metadata": {},
   "outputs": [],
   "source": [
    "class SegmentBatch():\n",
    "    def __init__(self, indx, batch):\n",
    "        self.subject_index =indx\n",
    "        self.meg = batch"
   ]
  },
  {
   "cell_type": "code",
   "execution_count": 19,
   "id": "5bc00393-214e-4393-a660-d3cec3877ab0",
   "metadata": {},
   "outputs": [],
   "source": [
    "segment_batch =SegmentBatch(0, batch)"
   ]
  },
  {
   "cell_type": "code",
   "execution_count": 20,
   "id": "789cc648-520c-46df-9d2c-3afac0687af8",
   "metadata": {},
   "outputs": [
    {
     "name": "stdout",
     "output_type": "stream",
     "text": [
      "Crop & pad:  361\n"
     ]
    }
   ],
   "source": [
    "out =model({\"meg\" : batch}, segment_batch)"
   ]
  },
  {
   "cell_type": "code",
   "execution_count": 21,
   "id": "910fdd3e-ede7-42d0-b063-c45ce93df8fd",
   "metadata": {},
   "outputs": [
    {
     "data": {
      "text/plain": [
       "torch.Size([256, 512, 361])"
      ]
     },
     "execution_count": 21,
     "metadata": {},
     "output_type": "execute_result"
    }
   ],
   "source": [
    "out.shape"
   ]
  },
  {
   "cell_type": "code",
   "execution_count": 27,
   "id": "118fd34a-e86b-45f8-a544-fc430438ef12",
   "metadata": {},
   "outputs": [],
   "source": [
    "from torch import nn"
   ]
  },
  {
   "cell_type": "code",
   "execution_count": 13,
   "id": "c90d79ba-5055-4d6a-b08b-763fb56ca0ee",
   "metadata": {},
   "outputs": [],
   "source": [
    "m = nn.AdaptiveAvgPool1d(1)"
   ]
  },
  {
   "cell_type": "code",
   "execution_count": 14,
   "id": "26cdcb81-bc23-4f61-b7a6-d04f353ee9ef",
   "metadata": {},
   "outputs": [],
   "source": [
    "input = torch.randn(1, 64, 8)\n",
    "output = m(input)"
   ]
  },
  {
   "cell_type": "code",
   "execution_count": 15,
   "id": "b36fa857-a01c-471b-951e-69dfb8a5d2a9",
   "metadata": {},
   "outputs": [
    {
     "data": {
      "text/plain": [
       "torch.Size([1, 64, 1])"
      ]
     },
     "execution_count": 15,
     "metadata": {},
     "output_type": "execute_result"
    }
   ],
   "source": [
    "output.shape"
   ]
  },
  {
   "cell_type": "code",
   "execution_count": 16,
   "id": "cbccd4b6-f3dd-4f01-9132-29c0788e7f50",
   "metadata": {},
   "outputs": [],
   "source": [
    "from bm.models.features import ConvWave"
   ]
  },
  {
   "cell_type": "code",
   "execution_count": 17,
   "id": "ef954bb3-2447-4432-a4f9-bc8875a666a1",
   "metadata": {},
   "outputs": [
    {
     "name": "stdout",
     "output_type": "stream",
     "text": [
      "ConvWave\n"
     ]
    }
   ],
   "source": [
    "feature_model =ConvWave()"
   ]
  },
  {
   "cell_type": "code",
   "execution_count": 18,
   "id": "06004c2a-9108-4658-89ad-f06633200c00",
   "metadata": {},
   "outputs": [
    {
     "data": {
      "text/plain": [
       "ConvWave(\n",
       "  (first_layer): Conv1d(1024, 512, kernel_size=(3,), stride=(1,), padding=(1,))\n",
       "  (dropout): Dropout(p=0.2, inplace=False)\n",
       ")"
      ]
     },
     "execution_count": 18,
     "metadata": {},
     "output_type": "execute_result"
    }
   ],
   "source": [
    "feature_model"
   ]
  },
  {
   "cell_type": "code",
   "execution_count": 19,
   "id": "cd366395-5290-42c9-985a-31d202073820",
   "metadata": {},
   "outputs": [],
   "source": [
    "batch =torch.rand(size=(256, 1024, 361))"
   ]
  },
  {
   "cell_type": "code",
   "execution_count": 20,
   "id": "93383c20-3c9f-476e-aefb-6376e8ab5c3b",
   "metadata": {},
   "outputs": [],
   "source": [
    "out =feature_model(batch)"
   ]
  },
  {
   "cell_type": "code",
   "execution_count": 21,
   "id": "dd976fba-4b61-4efb-acdc-8915544e026e",
   "metadata": {},
   "outputs": [
    {
     "data": {
      "text/plain": [
       "torch.Size([256, 512, 361])"
      ]
     },
     "execution_count": 21,
     "metadata": {},
     "output_type": "execute_result"
    }
   ],
   "source": [
    "out.shape"
   ]
  },
  {
   "cell_type": "code",
   "execution_count": 2,
   "id": "5e979967-b84b-4e0b-a5bb-73d129721b2d",
   "metadata": {},
   "outputs": [],
   "source": [
    "from bm.models import TimesNet"
   ]
  },
  {
   "cell_type": "code",
   "execution_count": 3,
   "id": "78722b3f-3eda-4d08-97be-3f616cd4e8ac",
   "metadata": {},
   "outputs": [],
   "source": [
    "conf_timesnet ={\n",
    "      \"hidden\":\n",
    "        {\"meg\": 320},\n",
    "      \"depth\": 2,\n",
    "      \"subject_layers\": False,\n",
    "      \"sequence_lenth\" : 361,\n",
    "      \"num_kernels\" : 6,\n",
    "      \"top_k\": 3,\n",
    "      \"dropout_projection\": 0.3,\n",
    "      \"d_model\": 32,\n",
    "      \"d_ff\": 32\n",
    "    }"
   ]
  },
  {
   "cell_type": "code",
   "execution_count": 4,
   "id": "0cdebb51-d5d7-4f84-8aaf-c48d620f9c65",
   "metadata": {},
   "outputs": [],
   "source": [
    "in_channels = {\"meg\" : 207}\n",
    "model_chout =1024"
   ]
  },
  {
   "cell_type": "code",
   "execution_count": 5,
   "id": "df15fffb-ee46-45c5-a648-534279c63d1f",
   "metadata": {},
   "outputs": [],
   "source": [
    "model = TimesNet(in_channels=in_channels, out_channels=model_chout,\n",
    "                           n_subjects=27, **conf_timesnet)"
   ]
  },
  {
   "cell_type": "code",
   "execution_count": 6,
   "id": "7b36c86d-b04d-494b-87ee-dabef76dfae5",
   "metadata": {
    "scrolled": true
   },
   "outputs": [
    {
     "data": {
      "text/plain": [
       "TimesNet(\n",
       "  (enc_embedding): DataEmbedding(\n",
       "    (value_embedding): TokenEmbedding(\n",
       "      (tokenConv): Conv1d(207, 32, kernel_size=(3,), stride=(1,), padding=(1,), bias=False, padding_mode=circular)\n",
       "    )\n",
       "    (position_embedding): PositionalEmbedding()\n",
       "    (temporal_embedding): TemporalEmbedding(\n",
       "      (hour_embed): FixedEmbedding(\n",
       "        (emb): Embedding(24, 32)\n",
       "      )\n",
       "      (weekday_embed): FixedEmbedding(\n",
       "        (emb): Embedding(7, 32)\n",
       "      )\n",
       "      (day_embed): FixedEmbedding(\n",
       "        (emb): Embedding(32, 32)\n",
       "      )\n",
       "      (month_embed): FixedEmbedding(\n",
       "        (emb): Embedding(13, 32)\n",
       "      )\n",
       "    )\n",
       "    (dropout): Dropout(p=0.1, inplace=False)\n",
       "  )\n",
       "  (model): ModuleList(\n",
       "    (0-1): 2 x TimesBlock(\n",
       "      (conv): Sequential(\n",
       "        (0): Inception_Block_V1(\n",
       "          (kernels): ModuleList(\n",
       "            (0): Conv2d(32, 32, kernel_size=(1, 1), stride=(1, 1))\n",
       "            (1): Conv2d(32, 32, kernel_size=(3, 3), stride=(1, 1), padding=(1, 1))\n",
       "            (2): Conv2d(32, 32, kernel_size=(5, 5), stride=(1, 1), padding=(2, 2))\n",
       "            (3): Conv2d(32, 32, kernel_size=(7, 7), stride=(1, 1), padding=(3, 3))\n",
       "            (4): Conv2d(32, 32, kernel_size=(9, 9), stride=(1, 1), padding=(4, 4))\n",
       "            (5): Conv2d(32, 32, kernel_size=(11, 11), stride=(1, 1), padding=(5, 5))\n",
       "          )\n",
       "        )\n",
       "        (1): GELU(approximate='none')\n",
       "        (2): Inception_Block_V1(\n",
       "          (kernels): ModuleList(\n",
       "            (0): Conv2d(32, 32, kernel_size=(1, 1), stride=(1, 1))\n",
       "            (1): Conv2d(32, 32, kernel_size=(3, 3), stride=(1, 1), padding=(1, 1))\n",
       "            (2): Conv2d(32, 32, kernel_size=(5, 5), stride=(1, 1), padding=(2, 2))\n",
       "            (3): Conv2d(32, 32, kernel_size=(7, 7), stride=(1, 1), padding=(3, 3))\n",
       "            (4): Conv2d(32, 32, kernel_size=(9, 9), stride=(1, 1), padding=(4, 4))\n",
       "            (5): Conv2d(32, 32, kernel_size=(11, 11), stride=(1, 1), padding=(5, 5))\n",
       "          )\n",
       "        )\n",
       "      )\n",
       "    )\n",
       "  )\n",
       "  (layer_norm): LayerNorm((32,), eps=1e-05, elementwise_affine=True)\n",
       "  (dropout): Dropout(p=0.3, inplace=False)\n",
       "  (projection): Linear(in_features=32, out_features=1024, bias=True)\n",
       ")"
      ]
     },
     "execution_count": 6,
     "metadata": {},
     "output_type": "execute_result"
    }
   ],
   "source": [
    "model"
   ]
  },
  {
   "cell_type": "code",
   "execution_count": 12,
   "id": "87ee09fb-18b2-4621-9538-f2a0caf90110",
   "metadata": {},
   "outputs": [],
   "source": [
    "batch =torch.rand(size=(256, 207, 361))"
   ]
  },
  {
   "cell_type": "code",
   "execution_count": 13,
   "id": "c012d0d5-d198-4b85-82cd-a5dcb27e7b17",
   "metadata": {},
   "outputs": [],
   "source": [
    "class SegmentBatch():\n",
    "    def __init__(self, indx, batch):\n",
    "        self.subject_index =indx\n",
    "        self.meg = batch"
   ]
  },
  {
   "cell_type": "code",
   "execution_count": 14,
   "id": "c747d76d-9b8e-4645-ad2e-bbf7f1430278",
   "metadata": {},
   "outputs": [],
   "source": [
    "segment_batch =SegmentBatch(0, batch)"
   ]
  },
  {
   "cell_type": "code",
   "execution_count": 15,
   "id": "4ac6fef7-883f-4401-9183-b3afb3f96265",
   "metadata": {},
   "outputs": [
    {
     "name": "stdout",
     "output_type": "stream",
     "text": [
      "torch.Size([256, 207, 361])\n"
     ]
    }
   ],
   "source": [
    "out =model({\"meg\" : batch}, segment_batch)"
   ]
  },
  {
   "cell_type": "code",
   "execution_count": 11,
   "id": "0f896ddd-001a-4ce7-bbe4-05b2a52cc70c",
   "metadata": {},
   "outputs": [
    {
     "data": {
      "text/plain": [
       "torch.Size([256, 207, 365])"
      ]
     },
     "execution_count": 11,
     "metadata": {},
     "output_type": "execute_result"
    }
   ],
   "source": [
    "batch.shape"
   ]
  },
  {
   "cell_type": "code",
   "execution_count": 16,
   "id": "19af3892-35d6-45a5-a83a-95fc69b02658",
   "metadata": {},
   "outputs": [
    {
     "data": {
      "text/plain": [
       "torch.Size([256, 207, 368])"
      ]
     },
     "execution_count": 16,
     "metadata": {},
     "output_type": "execute_result"
    }
   ],
   "source": [
    "F.interpolate(batch, 368).shape"
   ]
  },
  {
   "cell_type": "code",
   "execution_count": 12,
   "id": "7a1e6214-e97d-4054-aa29-4f8fb149f42b",
   "metadata": {},
   "outputs": [
    {
     "data": {
      "text/plain": [
       "torch.Size([256, 1024, 360])"
      ]
     },
     "execution_count": 12,
     "metadata": {},
     "output_type": "execute_result"
    }
   ],
   "source": [
    "out.size()"
   ]
  },
  {
   "cell_type": "code",
   "execution_count": 13,
   "id": "2953c4d7-a6f9-4ac2-8f05-999bce9646a0",
   "metadata": {},
   "outputs": [],
   "source": [
    "import torch.nn.functional as F"
   ]
  },
  {
   "cell_type": "code",
   "execution_count": null,
   "id": "b9f1c9f4-ffb7-4e07-a671-ce6d617fb660",
   "metadata": {},
   "outputs": [],
   "source": []
  },
  {
   "cell_type": "code",
   "execution_count": 23,
   "id": "01a8b61b-bfc6-46da-a7c8-3251e5dbe16b",
   "metadata": {},
   "outputs": [
    {
     "data": {
      "text/plain": [
       "torch.Size([256, 207, 362])"
      ]
     },
     "execution_count": 23,
     "metadata": {},
     "output_type": "execute_result"
    }
   ],
   "source": [
    "F.pad(batch, (0, 2)).shape"
   ]
  },
  {
   "cell_type": "code",
   "execution_count": 24,
   "id": "b337636f-bb01-4ad0-9fb3-2201b3beccef",
   "metadata": {},
   "outputs": [
    {
     "data": {
      "text/plain": [
       "torch.Size([256, 207, 360])"
      ]
     },
     "execution_count": 24,
     "metadata": {},
     "output_type": "execute_result"
    }
   ],
   "source": [
    "batch.shape"
   ]
  },
  {
   "cell_type": "code",
   "execution_count": null,
   "id": "aafffef3-6166-4a50-947e-03c1356cab58",
   "metadata": {},
   "outputs": [],
   "source": []
  }
 ],
 "metadata": {
  "kernelspec": {
   "display_name": "Python 3 (ipykernel)",
   "language": "python",
   "name": "python3"
  },
  "language_info": {
   "codemirror_mode": {
    "name": "ipython",
    "version": 3
   },
   "file_extension": ".py",
   "mimetype": "text/x-python",
   "name": "python",
   "nbconvert_exporter": "python",
   "pygments_lexer": "ipython3",
   "version": "3.8.18"
  }
 },
 "nbformat": 4,
 "nbformat_minor": 5
}
