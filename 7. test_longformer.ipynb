{
 "cells": [
  {
   "cell_type": "code",
   "execution_count": 1,
   "id": "1074ecf9-c69f-4d58-b079-9ced4d556732",
   "metadata": {},
   "outputs": [
    {
     "name": "stderr",
     "output_type": "stream",
     "text": [
      "Hostname bagration not defined in /conf/study_paths/study_paths.yaml. Using default paths.\n"
     ]
    }
   ],
   "source": [
    "from bm.models import SimpleTransformer\n",
    "import torch"
   ]
  },
  {
   "cell_type": "code",
   "execution_count": 2,
   "id": "bdb08f64-361b-43a1-bc31-33a4c08f3306",
   "metadata": {},
   "outputs": [],
   "source": [
    "config ={\"hidden\":\n",
    "        {\"meg\": 320},\n",
    "      \"depth\": 4,\n",
    "      \"nhead\": 8,\n",
    "      \"dim_ff\": 2048, \n",
    "      \"subject_layers\": False,\n",
    "      \"positional_embedding\": False,\n",
    "      \"merger\": False,\n",
    "      \"attention_window\" : [32,32,32,32],\n",
    "      \"model_type\" :\"longformer\",  \n",
    "      \"merger_pos_dim\": 2048}"
   ]
  },
  {
   "cell_type": "code",
   "execution_count": 3,
   "id": "3530ec52-2a5f-4dd2-9802-0609848010e4",
   "metadata": {},
   "outputs": [],
   "source": [
    "in_channels = {\"meg\" : 208}\n",
    "model_chout =1024"
   ]
  },
  {
   "cell_type": "code",
   "execution_count": 4,
   "id": "b0de6682-a62c-4ff8-ab73-b478e461dba0",
   "metadata": {},
   "outputs": [
    {
     "name": "stdout",
     "output_type": "stream",
     "text": [
      "self.in_channels {'meg': 208}\n",
      "self.out_channels 1024\n"
     ]
    }
   ],
   "source": [
    "model = SimpleTransformer(in_channels=in_channels, out_channels=model_chout,\n",
    "                           n_subjects=27, **config)"
   ]
  },
  {
   "cell_type": "code",
   "execution_count": 5,
   "id": "cf03c988-0ad6-4aab-905d-9cabfb2ff857",
   "metadata": {},
   "outputs": [
    {
     "data": {
      "text/plain": [
       "26.0"
      ]
     },
     "execution_count": 5,
     "metadata": {},
     "output_type": "execute_result"
    }
   ],
   "source": [
    "208 /8"
   ]
  },
  {
   "cell_type": "code",
   "execution_count": 6,
   "id": "4021d43f-d5bb-44a6-8c23-9fc835259ef8",
   "metadata": {},
   "outputs": [
    {
     "data": {
      "text/plain": [
       "25.875"
      ]
     },
     "execution_count": 6,
     "metadata": {},
     "output_type": "execute_result"
    }
   ],
   "source": [
    "207 /8"
   ]
  },
  {
   "cell_type": "code",
   "execution_count": 7,
   "id": "3cc5a3d1-9424-448d-8eb3-20f1d018d2ef",
   "metadata": {},
   "outputs": [],
   "source": [
    "batch =torch.rand(size=(256, 208, 361))"
   ]
  },
  {
   "cell_type": "code",
   "execution_count": 8,
   "id": "a9bbfe23-053c-4788-a237-b9cb9c2e07e5",
   "metadata": {},
   "outputs": [],
   "source": [
    "class SegmentBatch():\n",
    "    def __init__(self, indx, batch):\n",
    "        self.subject_index =indx\n",
    "        self.meg = batch"
   ]
  },
  {
   "cell_type": "code",
   "execution_count": 9,
   "id": "c2a64122-fecd-4c58-b6dd-6373487fe7c9",
   "metadata": {},
   "outputs": [],
   "source": [
    "segment_batch =SegmentBatch(0, batch)"
   ]
  },
  {
   "cell_type": "code",
   "execution_count": 10,
   "id": "98bdecd3-9aec-4143-95c2-b3c05ec499f2",
   "metadata": {},
   "outputs": [
    {
     "name": "stdout",
     "output_type": "stream",
     "text": [
      "torch.Size([256, 352, 1024])\n"
     ]
    }
   ],
   "source": [
    "out =model({\"meg\" : batch}, segment_batch)"
   ]
  },
  {
   "cell_type": "code",
   "execution_count": 11,
   "id": "0d98c9ae-d5aa-4db7-badf-cd002620e1fb",
   "metadata": {},
   "outputs": [
    {
     "data": {
      "text/plain": [
       "torch.Size([256, 1024, 361])"
      ]
     },
     "execution_count": 11,
     "metadata": {},
     "output_type": "execute_result"
    }
   ],
   "source": [
    "out.shape"
   ]
  },
  {
   "cell_type": "code",
   "execution_count": null,
   "id": "d14a4f46-8dcc-4ec6-8b35-36c3da63230d",
   "metadata": {},
   "outputs": [],
   "source": [
    "361// 32 *32"
   ]
  },
  {
   "cell_type": "code",
   "execution_count": 31,
   "id": "e67d7e28-243d-44ff-b2b7-d4fd0193c4bf",
   "metadata": {},
   "outputs": [
    {
     "data": {
      "text/plain": [
       "384"
      ]
     },
     "execution_count": 31,
     "metadata": {},
     "output_type": "execute_result"
    }
   ],
   "source": [
    "12*32"
   ]
  },
  {
   "cell_type": "code",
   "execution_count": null,
   "id": "e31f9d66-1021-46f2-abfe-8fe7784973f8",
   "metadata": {},
   "outputs": [],
   "source": []
  }
 ],
 "metadata": {
  "kernelspec": {
   "display_name": "Python 3 (ipykernel)",
   "language": "python",
   "name": "python3"
  },
  "language_info": {
   "codemirror_mode": {
    "name": "ipython",
    "version": 3
   },
   "file_extension": ".py",
   "mimetype": "text/x-python",
   "name": "python",
   "nbconvert_exporter": "python",
   "pygments_lexer": "ipython3",
   "version": "3.8.18"
  }
 },
 "nbformat": 4,
 "nbformat_minor": 5
}
