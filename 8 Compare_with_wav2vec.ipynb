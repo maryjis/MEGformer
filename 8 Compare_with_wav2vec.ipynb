{
 "cells": [
  {
   "cell_type": "code",
   "execution_count": 72,
   "id": "2a6f85d5-ea86-4e5d-9a79-83d4b6cc4f01",
   "metadata": {},
   "outputs": [],
   "source": [
    "import torchaudio\n",
    "import librosa\n",
    "import IPython.display as ipd\n",
    "import numpy as np\n",
    "import torch\n",
    "from mne_bids import BIDSPath, read_raw_bids\n",
    "import pandas as pd\n",
    "import numpy as np\n",
    "import torchaudio\n",
    "from pathlib import Path\n",
    "from bm.events import *\n",
    "from scipy.stats import pearsonr\n",
    "from scipy.signal import coherence,correlate\n",
    "import matplotlib.pyplot as plt\n",
    "from scipy.stats import pearsonr"
   ]
  },
  {
   "cell_type": "code",
   "execution_count": 73,
   "id": "47a79e6b-6094-418a-9578-44ae4dfa4516",
   "metadata": {},
   "outputs": [],
   "source": [
    "audio_path ='data/gwilliams2022/download/stimuli/audio/lw1_0.wav'"
   ]
  },
  {
   "cell_type": "code",
   "execution_count": 5,
   "id": "aaec9a13-d072-47a2-9bdf-9cbcfeaec0d9",
   "metadata": {},
   "outputs": [],
   "source": [
    "speech, sr = torchaudio.load(audio_path)\n",
    "speech = librosa.resample(np.asarray(speech), orig_sr=sr, target_sr=16_000)"
   ]
  },
  {
   "cell_type": "code",
   "execution_count": 6,
   "id": "556dc578-a37b-4cf7-8f53-dcba171fed50",
   "metadata": {},
   "outputs": [],
   "source": [
    "model_name = \"facebook/wav2vec2-large-xlsr-53\""
   ]
  },
  {
   "cell_type": "code",
   "execution_count": 7,
   "id": "94110f5f-e8d9-4076-ab3b-f0d50d98c624",
   "metadata": {},
   "outputs": [],
   "source": [
    "from transformers import Wav2Vec2Model\n",
    "from transformers import Wav2Vec2Model, Wav2Vec2Config\n",
    "from transformers import Wav2Vec2FeatureExtractor"
   ]
  },
  {
   "cell_type": "code",
   "execution_count": 8,
   "id": "eb354ad7-90a4-4319-9929-2b77e8ff9034",
   "metadata": {},
   "outputs": [],
   "source": [
    "config = Wav2Vec2Config.from_pretrained(model_name)"
   ]
  },
  {
   "cell_type": "code",
   "execution_count": 9,
   "id": "67463247-7daf-4c3d-b1bb-199532f52c5d",
   "metadata": {},
   "outputs": [],
   "source": [
    "model =Wav2Vec2Model(config)"
   ]
  },
  {
   "cell_type": "code",
   "execution_count": 10,
   "id": "e5f0a2d1-fc51-4083-830a-9a17a8e3d841",
   "metadata": {},
   "outputs": [],
   "source": [
    "feature_extractor =Wav2Vec2FeatureExtractor.from_pretrained(model_name)"
   ]
  },
  {
   "cell_type": "code",
   "execution_count": 11,
   "id": "0d98d4cd-b5a0-4fba-b99a-d054db7ba3dc",
   "metadata": {},
   "outputs": [],
   "source": [
    "out = feature_extractor(speech,return_tensors=\"pt\",\n",
    "                                     sampling_rate=16_000,\n",
    "                                     do_normalize=True).input_values"
   ]
  },
  {
   "cell_type": "code",
   "execution_count": 12,
   "id": "b9a64ee3-b36b-4d56-a5f2-afe33f9aca3e",
   "metadata": {},
   "outputs": [],
   "source": [
    "res =model(out, output_hidden_states=True)"
   ]
  },
  {
   "cell_type": "code",
   "execution_count": 14,
   "id": "294599d0-0da0-4058-ac94-eccd48411b6b",
   "metadata": {},
   "outputs": [],
   "source": [
    "out= res.get('hidden_states')"
   ]
  },
  {
   "cell_type": "code",
   "execution_count": 63,
   "id": "26e58c6c-91aa-49ae-832f-61b0bbc691cd",
   "metadata": {},
   "outputs": [
    {
     "data": {
      "text/plain": [
       "torch.Size([1, 4793, 1024])"
      ]
     },
     "execution_count": 63,
     "metadata": {},
     "output_type": "execute_result"
    }
   ],
   "source": [
    "out[0].shape"
   ]
  },
  {
   "cell_type": "code",
   "execution_count": 23,
   "id": "5b2fb3c5-569d-4edc-a44a-194b50d81d35",
   "metadata": {},
   "outputs": [
    {
     "data": {
      "text/plain": [
       "1"
      ]
     },
     "execution_count": 23,
     "metadata": {},
     "output_type": "execute_result"
    }
   ],
   "source": [
    "len(out[1])"
   ]
  },
  {
   "cell_type": "code",
   "execution_count": 27,
   "id": "9fc4a6cf-e75f-46cc-8dbc-78a53f4d16a3",
   "metadata": {},
   "outputs": [],
   "source": [
    "path ='data/gwilliams2022/download/'"
   ]
  },
  {
   "cell_type": "code",
   "execution_count": 28,
   "id": "ae5cc26b-a6fd-4d03-b5e8-c96964b6ed66",
   "metadata": {},
   "outputs": [],
   "source": [
    "bids_path = BIDSPath(\n",
    "            subject=\"05\",\n",
    "            session=\"0\",\n",
    "            task=\"0\",\n",
    "            root=path,\n",
    "            datatype=\"meg\",\n",
    "        )"
   ]
  },
  {
   "cell_type": "code",
   "execution_count": 29,
   "id": "486b77fb-4e61-4880-b81c-c99bbfaa4db2",
   "metadata": {},
   "outputs": [
    {
     "name": "stdout",
     "output_type": "stream",
     "text": [
      "Extracting SQD Parameters from data/gwilliams2022/download/sub-05/ses-0/meg/sub-05_ses-0_task-0_meg.con...\n",
      "Creating Raw.info structure...\n",
      "Setting channel info structure...\n",
      "Creating Info structure...\n",
      "Ready.\n",
      "Reading events from data/gwilliams2022/download/sub-05/ses-0/meg/sub-05_ses-0_task-0_events.tsv.\n",
      "Reading channel info from data/gwilliams2022/download/sub-05/ses-0/meg/sub-05_ses-0_task-0_channels.tsv.\n",
      "The stimulus channel \"STI 014\" is present in the raw data, but not included in channels.tsv. Removing the channel.\n"
     ]
    },
    {
     "name": "stderr",
     "output_type": "stream",
     "text": [
      "/tmp/ipykernel_1839997/3824812548.py:1: RuntimeWarning: The unit for channel(s) MISC 001, MISC 002, MISC 003, MISC 004, MISC 005, MISC 006, MISC 007, MISC 008, MISC 009, MISC 010, MISC 011, MISC 012, MISC 013, MISC 014, MISC 015, MISC 016, MISC 017, MISC 018, MISC 019, MISC 020, MISC 021, MISC 022, MISC 023, MISC 024, MISC 025, MISC 026, MISC 027, MISC 028, MISC 029, MISC 030, MISC 031, MISC 032 has changed from V to NA.\n",
      "  raw = read_raw_bids(bids_path)\n"
     ]
    }
   ],
   "source": [
    "raw = read_raw_bids(bids_path) "
   ]
  },
  {
   "cell_type": "code",
   "execution_count": 30,
   "id": "6e0f1df0-0cf4-48a9-a62e-7f6a67fef548",
   "metadata": {},
   "outputs": [
    {
     "name": "stdout",
     "output_type": "stream",
     "text": [
      "NOTE: pick_types() is a legacy function. New code should use inst.pick(...).\n"
     ]
    }
   ],
   "source": [
    "picks = dict(meg=True, eeg=False, stim=False, eog=False, ecg=False, misc=False)\n",
    "raw = raw.pick_types(**picks)"
   ]
  },
  {
   "cell_type": "code",
   "execution_count": 40,
   "id": "94b1e285-512e-455a-89e6-6eef6fc6bb6f",
   "metadata": {},
   "outputs": [],
   "source": [
    "brain_activity =raw.get_data()"
   ]
  },
  {
   "cell_type": "code",
   "execution_count": 98,
   "id": "68f70c93-da16-43db-ba11-4c678b4334fb",
   "metadata": {},
   "outputs": [
    {
     "data": {
      "text/html": [
       "<details open>\n",
       "    <summary><strong>General</strong></summary>\n",
       "    <table class=\"table table-hover table-striped table-sm table-responsive small\">\n",
       "        <tr>\n",
       "            <th>Measurement date</th>\n",
       "            \n",
       "            <td>January 01, 2000  00:00:00 GMT</td>\n",
       "            \n",
       "        </tr>\n",
       "        <tr>\n",
       "            <th>Experimenter</th>\n",
       "            \n",
       "            <td>mne_anonymize</td>\n",
       "            \n",
       "        </tr>\n",
       "        <tr>\n",
       "            <th>Participant</th>\n",
       "            \n",
       "            \n",
       "            <td>sub-05</td>\n",
       "            \n",
       "            \n",
       "        </tr>\n",
       "    </table>\n",
       "    </details>\n",
       "    <details open>\n",
       "        <summary><strong>Channels</strong></summary>\n",
       "        <table class=\"table table-hover table-striped table-sm table-responsive small\">\n",
       "            <tr>\n",
       "                <th>Digitized points</th>\n",
       "                \n",
       "                <td>Not available</td>\n",
       "                \n",
       "            </tr>\n",
       "            <tr>\n",
       "                <th>Good channels</th>\n",
       "                <td>208 Magnetometers</td>\n",
       "            </tr>\n",
       "            <tr>\n",
       "                <th>Bad channels</th>\n",
       "                <td>None</td>\n",
       "            </tr>\n",
       "            <tr>\n",
       "                <th>EOG channels</th>\n",
       "                <td>Not available</td>\n",
       "            </tr>\n",
       "            <tr>\n",
       "                <th>ECG channels</th>\n",
       "                <td>Not available</td>\n",
       "            </tr>\n",
       "        </table>\n",
       "        </details>\n",
       "        <details open>\n",
       "            <summary><strong>Data</strong></summary>\n",
       "            <table class=\"table table-hover table-striped table-sm table-responsive small\">\n",
       "                \n",
       "                <tr>\n",
       "                    <th>Sampling frequency</th>\n",
       "                    <td>50.00 Hz</td>\n",
       "                </tr>\n",
       "                \n",
       "                \n",
       "                <tr>\n",
       "                    <th>Highpass</th>\n",
       "                    <td>0.03 Hz</td>\n",
       "                </tr>\n",
       "                \n",
       "                \n",
       "                <tr>\n",
       "                    <th>Lowpass</th>\n",
       "                    <td>25.00 Hz</td>\n",
       "                </tr>\n",
       "                \n",
       "                \n",
       "                \n",
       "                <tr>\n",
       "                    <th>Filenames</th>\n",
       "                    <td>sub-05_ses-0_task-0_meg.con</td>\n",
       "                </tr>\n",
       "                \n",
       "                \n",
       "                <tr>\n",
       "                    <th>Duration</th>\n",
       "                    <td>00:06:24 (HH:MM:SS)</td>\n",
       "                </tr>\n",
       "                \n",
       "            </table>\n",
       "            </details>"
      ],
      "text/plain": [
       "<RawKIT | sub-05_ses-0_task-0_meg.con, 208 x 19200 (384.0 s), ~30.7 MB, data loaded>"
      ]
     },
     "execution_count": 98,
     "metadata": {},
     "output_type": "execute_result"
    }
   ],
   "source": [
    "raw.resample(sfreq=50)"
   ]
  },
  {
   "cell_type": "code",
   "execution_count": 100,
   "id": "04e72468-f69b-4f59-a7f5-a7d630284686",
   "metadata": {},
   "outputs": [],
   "source": [
    "brain_activity2 =raw.get_data()"
   ]
  },
  {
   "cell_type": "code",
   "execution_count": 34,
   "id": "9f7b6fe4-fe02-4d83-9215-95d0e07a70a1",
   "metadata": {},
   "outputs": [
    {
     "data": {
      "text/plain": [
       "(360494,)"
      ]
     },
     "execution_count": 34,
     "metadata": {},
     "output_type": "execute_result"
    }
   ],
   "source": [
    "brain_activity[0,23506:].shape"
   ]
  },
  {
   "cell_type": "code",
   "execution_count": 35,
   "id": "07bd2b58-4629-48b6-82eb-45fe9258845d",
   "metadata": {},
   "outputs": [
    {
     "data": {
      "text/plain": [
       "20.408163265306122"
      ]
     },
     "execution_count": 35,
     "metadata": {},
     "output_type": "execute_result"
    }
   ],
   "source": [
    "1000/49"
   ]
  },
  {
   "cell_type": "code",
   "execution_count": 36,
   "id": "5ca87a45-85ee-4e94-9cd9-5d74fba9db62",
   "metadata": {
    "jupyter": {
     "source_hidden": true
    }
   },
   "outputs": [
    {
     "data": {
      "text/plain": [
       "18024"
      ]
     },
     "execution_count": 36,
     "metadata": {},
     "output_type": "execute_result"
    }
   ],
   "source": [
    "360494//20"
   ]
  },
  {
   "cell_type": "code",
   "execution_count": 39,
   "id": "ac4ec784-f6a1-4348-9100-db887777b3c7",
   "metadata": {},
   "outputs": [
    {
     "data": {
      "text/plain": [
       "95881"
      ]
     },
     "execution_count": 39,
     "metadata": {},
     "output_type": "execute_result"
    }
   ],
   "source": [
    "speech.shape[1] //16"
   ]
  },
  {
   "cell_type": "code",
   "execution_count": 70,
   "id": "e9b891f7-81ba-4c50-8986-dbab591bc1e4",
   "metadata": {},
   "outputs": [],
   "source": [
    "speech49 = librosa.resample(np.asarray(speech), orig_sr=16_000, target_sr=50)"
   ]
  },
  {
   "cell_type": "code",
   "execution_count": 103,
   "id": "0cf4d960-6fbd-4906-9526-a7c801683b20",
   "metadata": {},
   "outputs": [],
   "source": [
    "speech1000= librosa.resample(np.asarray(speech), orig_sr=16_000, target_sr=1000)"
   ]
  },
  {
   "cell_type": "code",
   "execution_count": 95,
   "id": "b287a8f5-722c-4924-a3ed-8b2be874bad3",
   "metadata": {},
   "outputs": [
    {
     "data": {
      "text/plain": [
       "PearsonRResult(statistic=0.02029936147401987, pvalue=0.15998162222246606)"
      ]
     },
     "execution_count": 95,
     "metadata": {},
     "output_type": "execute_result"
    }
   ],
   "source": [
    "pearsonr(out[0][0,:,0].detach().numpy(), speech49[0, :out[0].shape[1]])"
   ]
  },
  {
   "cell_type": "code",
   "execution_count": null,
   "id": "ee2d24f2-4b58-4420-bb42-010bd1fe9a21",
   "metadata": {},
   "outputs": [],
   "source": [
    "raw.resample()"
   ]
  },
  {
   "cell_type": "code",
   "execution_count": 105,
   "id": "2c3700c4-fd71-4944-8ee4-654283a53893",
   "metadata": {},
   "outputs": [
    {
     "data": {
      "text/plain": [
       "(208, 384000)"
      ]
     },
     "execution_count": 105,
     "metadata": {},
     "output_type": "execute_result"
    }
   ],
   "source": [
    "brain_activity.shape"
   ]
  },
  {
   "cell_type": "code",
   "execution_count": 104,
   "id": "0fa44e4b-52ca-4c07-ab12-686085712c99",
   "metadata": {},
   "outputs": [
    {
     "data": {
      "text/plain": [
       "(1, 95882)"
      ]
     },
     "execution_count": 104,
     "metadata": {},
     "output_type": "execute_result"
    }
   ],
   "source": [
    "speech1000.shape"
   ]
  },
  {
   "cell_type": "code",
   "execution_count": 101,
   "id": "5c11e93c-3c53-4ffd-9c65-e5018ac98ab9",
   "metadata": {},
   "outputs": [
    {
     "data": {
      "text/plain": [
       "(208, 19200)"
      ]
     },
     "execution_count": 101,
     "metadata": {},
     "output_type": "execute_result"
    }
   ],
   "source": [
    "brain_activity2.shape"
   ]
  },
  {
   "cell_type": "code",
   "execution_count": null,
   "id": "58802ead-e96f-401c-a5e7-8ebe575f05eb",
   "metadata": {},
   "outputs": [],
   "source": []
  },
  {
   "cell_type": "code",
   "execution_count": null,
   "id": "083a9b02-bb00-48df-83de-31f1bd0b7203",
   "metadata": {},
   "outputs": [],
   "source": []
  }
 ],
 "metadata": {
  "kernelspec": {
   "display_name": "Python 3 (ipykernel)",
   "language": "python",
   "name": "python3"
  },
  "language_info": {
   "codemirror_mode": {
    "name": "ipython",
    "version": 3
   },
   "file_extension": ".py",
   "mimetype": "text/x-python",
   "name": "python",
   "nbconvert_exporter": "python",
   "pygments_lexer": "ipython3",
   "version": "3.8.18"
  }
 },
 "nbformat": 4,
 "nbformat_minor": 5
}
